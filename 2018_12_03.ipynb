{
 "cells": [
  {
   "cell_type": "markdown",
   "metadata": {},
   "source": [
    "### <함수>"
   ]
  },
  {
   "cell_type": "code",
   "execution_count": 1,
   "metadata": {},
   "outputs": [],
   "source": [
    "#1\n",
    "def A(a,b):\n",
    "    return a+b\n",
    "\n",
    "def B(a,b):\n",
    "    return A(a,b)*100   "
   ]
  },
  {
   "cell_type": "code",
   "execution_count": 2,
   "metadata": {},
   "outputs": [
    {
     "data": {
      "text/plain": [
       "13"
      ]
     },
     "execution_count": 2,
     "metadata": {},
     "output_type": "execute_result"
    }
   ],
   "source": [
    "A(10,3)"
   ]
  },
  {
   "cell_type": "code",
   "execution_count": 3,
   "metadata": {},
   "outputs": [
    {
     "data": {
      "text/plain": [
       "1300"
      ]
     },
     "execution_count": 3,
     "metadata": {},
     "output_type": "execute_result"
    }
   ],
   "source": [
    "B(10,3)"
   ]
  },
  {
   "cell_type": "markdown",
   "metadata": {},
   "source": [
    "## <파일 입출력>"
   ]
  },
  {
   "cell_type": "code",
   "execution_count": 35,
   "metadata": {},
   "outputs": [
    {
     "name": "stdout",
     "output_type": "stream",
     "text": [
      "pony 1 F 80 96\n",
      "\n",
      "kong 1 F 35 45\n",
      "\n",
      "popo 3 M 21 87\n",
      "\n",
      "totoro 4 M 89 100\n",
      "\n",
      "popo 2 F 42 31\n",
      "\n",
      "momo 2 M 100 97\n",
      "\n",
      "nimo 3 F 34 75\n",
      "\n",
      "pororo 1 F 25 29\n",
      "\n",
      "pupu 2 M 87 90\n",
      "\n",
      "king 3 M 60 65\n",
      "\n"
     ]
    }
   ],
   "source": [
    "f = open('report.txt','r')\n",
    "f.readline()\n",
    "for i in f:\n",
    "    print(i)"
   ]
  },
  {
   "cell_type": "code",
   "execution_count": 36,
   "metadata": {},
   "outputs": [
    {
     "name": "stdout",
     "output_type": "stream",
     "text": [
      "['nimo']\n"
     ]
    }
   ],
   "source": [
    "#1   3학년 중 중간고사점수 30점 이상인 여학생의 이름 출력하시오\n",
    "f = open('report.txt','r')\n",
    "f.readline() #파이썬 마음속으로만 한 줄 읽기\n",
    "name = [] \n",
    "for i in f:\n",
    "    n = i.split()[0] #이름\n",
    "    g =i.split()[1] #학년\n",
    "    s =i.split()[2] #성별\n",
    "    mid =int(i.split()[3])  #중간고사 \n",
    "    \n",
    "    if g == '3' and s == 'F' and mid>=30 :\n",
    "        #n = i.split()[0] #이름\n",
    "        name.append(n)\n",
    "print(name)"
   ]
  },
  {
   "cell_type": "code",
   "execution_count": 45,
   "metadata": {},
   "outputs": [],
   "source": [
    "#2 2학년 중 기말고사 점수가 50점 이상인 남학생의 이름을 ‘out.txt’파일에 쓰는 코드를 작성하시오.\n",
    "# (파일 한 줄에 이름 하나씩)\n",
    "f = open('report.txt','r')\n",
    "fw = open('out.txt','w') \n",
    "f.readline() #파이썬 마음속으로만 한 줄 읽기\n",
    "for i in f:\n",
    "    n = i.split()[0] #이름\n",
    "    g =i.split()[1] #학년\n",
    "    s =i.split()[2] #성별\n",
    "    final =int(i.split()[4])  #기말\n",
    "    if g == '2' and s == 'M' and final>=50 :\n",
    "        fw.write(n+'\\n')\n"
   ]
  },
  {
   "cell_type": "code",
   "execution_count": 47,
   "metadata": {},
   "outputs": [
    {
     "name": "stdout",
     "output_type": "stream",
     "text": [
      "momo\n",
      "pupu\n"
     ]
    }
   ],
   "source": [
    "# 2번문제  정답 확인 \n",
    "ff =  open('out.txt','r')\n",
    "for i in ff:\n",
    "    print(i.strip())"
   ]
  },
  {
   "cell_type": "code",
   "execution_count": 48,
   "metadata": {},
   "outputs": [],
   "source": [
    "#3 학생의 이름을 입력하면 해당 학생의 중간고사점수와 기말고사점수를 return하는 함수를 작성하시오.\n",
    "# 함수 정의 예) findstud(이름)  \n",
    "\n",
    "def findstud(name) :\n",
    "    f = open('report.txt','r')\n",
    "    f.readline()\n",
    "    box = [] # 해당 학생의 점수를 넣주기 \n",
    "    for i in f:\n",
    "        n = i.split()[0]\n",
    "        if name == n :\n",
    "            mid =i.split()[3]\n",
    "            final =i.split()[4]\n",
    "            score = mid +'&'+ final\n",
    "            box.append(score)\n",
    "    return box\n",
    "    "
   ]
  },
  {
   "cell_type": "code",
   "execution_count": 50,
   "metadata": {},
   "outputs": [
    {
     "data": {
      "text/plain": [
       "['100&97']"
      ]
     },
     "execution_count": 50,
     "metadata": {},
     "output_type": "execute_result"
    }
   ],
   "source": [
    "findstud('momo')"
   ]
  },
  {
   "cell_type": "markdown",
   "metadata": {},
   "source": [
    "## <알고리즘>\n",
    "### commands => [i, j, k]  i부터 j까지 배열 정렬하여 k번째"
   ]
  },
  {
   "cell_type": "code",
   "execution_count": 53,
   "metadata": {},
   "outputs": [],
   "source": [
    "#1 \n",
    "def solution(array, commands) :\n",
    "    answer = []\n",
    "    for i in commands :\n",
    "        cur = array[i[0]-1 :i[1]]  # 2~5까지 가져옴 \n",
    "        cur.sort()\n",
    "        answer.append(cur[i[2]-1])  #cur[2]\n",
    "    return answer"
   ]
  },
  {
   "cell_type": "code",
   "execution_count": 54,
   "metadata": {},
   "outputs": [
    {
     "data": {
      "text/plain": [
       "[5, 6, 3]"
      ]
     },
     "execution_count": 54,
     "metadata": {},
     "output_type": "execute_result"
    }
   ],
   "source": [
    "array =[1,5,2,6,3,7,4]\n",
    "commands = [[2, 5, 3], [4, 4, 1], [1, 7, 3]]\n",
    "solution(array, commands)"
   ]
  },
  {
   "cell_type": "code",
   "execution_count": 57,
   "metadata": {},
   "outputs": [],
   "source": [
    "def solutioin(num):\n",
    "    answer = 0\n",
    "    while num != 1 :\n",
    "        if num % 2 == 0 :  #짝수\n",
    "            num = num/2\n",
    "            answer = answer + 1\n",
    "        else : #홀수\n",
    "            num = num*3+1\n",
    "            answer = answer+1\n",
    "        if answer > 500 :\n",
    "            return -1\n",
    "    return answer #몇번 반복해서 1이 되었는지 횟수를 리턴"
   ]
  },
  {
   "cell_type": "code",
   "execution_count": 59,
   "metadata": {},
   "outputs": [
    {
     "data": {
      "text/plain": [
       "-1"
      ]
     },
     "execution_count": 59,
     "metadata": {},
     "output_type": "execute_result"
    }
   ],
   "source": [
    "solutioin(626331)"
   ]
  },
  {
   "cell_type": "code",
   "execution_count": null,
   "metadata": {},
   "outputs": [],
   "source": []
  }
 ],
 "metadata": {
  "kernelspec": {
   "display_name": "Python 3",
   "language": "python",
   "name": "python3"
  },
  "language_info": {
   "codemirror_mode": {
    "name": "ipython",
    "version": 3
   },
   "file_extension": ".py",
   "mimetype": "text/x-python",
   "name": "python",
   "nbconvert_exporter": "python",
   "pygments_lexer": "ipython3",
   "version": "3.6.5"
  }
 },
 "nbformat": 4,
 "nbformat_minor": 2
}
